{
  "nbformat": 4,
  "nbformat_minor": 0,
  "metadata": {
    "colab": {
      "provenance": [],
      "authorship_tag": "ABX9TyOuOlftrQ0oGyZhLEukUBdR",
      "include_colab_link": true
    },
    "kernelspec": {
      "name": "python3",
      "display_name": "Python 3"
    },
    "language_info": {
      "name": "python"
    }
  },
  "cells": [
    {
      "cell_type": "markdown",
      "metadata": {
        "id": "view-in-github",
        "colab_type": "text"
      },
      "source": [
        "<a href=\"https://colab.research.google.com/github/sakshi-tekale/Azure-AI-Projects/blob/main/Azure-AI-Projects/Sentiment-Analysis/sentiment_analysis.ipynb\" target=\"_parent\"><img src=\"https://colab.research.google.com/assets/colab-badge.svg\" alt=\"Open In Colab\"/></a>"
      ]
    },
    {
      "cell_type": "code",
      "source": [
        "pip install azure-ai-textanalytics"
      ],
      "metadata": {
        "colab": {
          "base_uri": "https://localhost:8080/"
        },
        "id": "NCbw-hmax0bE",
        "outputId": "3c4b5344-6074-449d-93f4-8f6d8bf543ac"
      },
      "execution_count": 1,
      "outputs": [
        {
          "output_type": "stream",
          "name": "stdout",
          "text": [
            "Requirement already satisfied: azure-ai-textanalytics in /usr/local/lib/python3.11/dist-packages (5.3.0)\n",
            "Requirement already satisfied: azure-core<2.0.0,>=1.24.0 in /usr/local/lib/python3.11/dist-packages (from azure-ai-textanalytics) (1.32.0)\n",
            "Requirement already satisfied: azure-common~=1.1 in /usr/local/lib/python3.11/dist-packages (from azure-ai-textanalytics) (1.1.28)\n",
            "Requirement already satisfied: isodate<1.0.0,>=0.6.1 in /usr/local/lib/python3.11/dist-packages (from azure-ai-textanalytics) (0.7.2)\n",
            "Requirement already satisfied: typing-extensions>=4.0.1 in /usr/local/lib/python3.11/dist-packages (from azure-ai-textanalytics) (4.12.2)\n",
            "Requirement already satisfied: requests>=2.21.0 in /usr/local/lib/python3.11/dist-packages (from azure-core<2.0.0,>=1.24.0->azure-ai-textanalytics) (2.32.3)\n",
            "Requirement already satisfied: six>=1.11.0 in /usr/local/lib/python3.11/dist-packages (from azure-core<2.0.0,>=1.24.0->azure-ai-textanalytics) (1.17.0)\n",
            "Requirement already satisfied: charset-normalizer<4,>=2 in /usr/local/lib/python3.11/dist-packages (from requests>=2.21.0->azure-core<2.0.0,>=1.24.0->azure-ai-textanalytics) (3.4.1)\n",
            "Requirement already satisfied: idna<4,>=2.5 in /usr/local/lib/python3.11/dist-packages (from requests>=2.21.0->azure-core<2.0.0,>=1.24.0->azure-ai-textanalytics) (3.10)\n",
            "Requirement already satisfied: urllib3<3,>=1.21.1 in /usr/local/lib/python3.11/dist-packages (from requests>=2.21.0->azure-core<2.0.0,>=1.24.0->azure-ai-textanalytics) (2.3.0)\n",
            "Requirement already satisfied: certifi>=2017.4.17 in /usr/local/lib/python3.11/dist-packages (from requests>=2.21.0->azure-core<2.0.0,>=1.24.0->azure-ai-textanalytics) (2025.1.31)\n"
          ]
        }
      ]
    },
    {
      "cell_type": "code",
      "source": [
        "from azure.ai.textanalytics import TextAnalyticsClient\n",
        "from azure.core.credentials import AzureKeyCredential\n",
        "\n",
        "API_KEY = \"7Sc5V0CNCuPjcXcKhcCx3rXd4sTc3EkkXYXgduK2WhlWaFWBOB3rJQQJ99BCACYeBjFXJ3w3AAAaACOGyPce\"\n",
        "ENDPOINT = \"https://sentiment-ai.cognitiveservices.azure.com/\"\n",
        "\n",
        "client = TextAnalyticsClient(ENDPOINT, AzureKeyCredential(API_KEY))\n",
        "\n",
        "# Sample text\n",
        "texts = [\"I am glad you made it.\", \"This is the worst experience ever.\"]\n",
        "\n",
        "response = client.analyze_sentiment(texts)\n",
        "\n",
        "for text, analysis in zip(texts, response):\n",
        "    print(f\"Text: {text}\")\n",
        "    print(f\"Sentiment: {analysis.sentiment} | Positive: {analysis.confidence_scores.positive:.2f} | Negative: {analysis.confidence_scores.negative:.2f}\")\n"
      ],
      "metadata": {
        "colab": {
          "base_uri": "https://localhost:8080/"
        },
        "id": "HA_1nXMbx8Qt",
        "outputId": "8ec2c675-546e-4828-d2bd-86fe6b366890"
      },
      "execution_count": 5,
      "outputs": [
        {
          "output_type": "stream",
          "name": "stdout",
          "text": [
            "Text: I am glad you made it.\n",
            "Sentiment: positive | Positive: 0.99 | Negative: 0.00\n",
            "Text: This is the worst experience ever.\n",
            "Sentiment: negative | Positive: 0.00 | Negative: 1.00\n"
          ]
        }
      ]
    }
  ]
}