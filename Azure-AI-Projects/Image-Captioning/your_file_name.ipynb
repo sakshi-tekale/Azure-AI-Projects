{
  "nbformat": 4,
  "nbformat_minor": 0,
  "metadata": {
    "colab": {
      "provenance": [],
      "authorship_tag": "ABX9TyObHXPds6fHbL1758qssOjt",
      "include_colab_link": true
    },
    "kernelspec": {
      "name": "python3",
      "display_name": "Python 3"
    },
    "language_info": {
      "name": "python"
    }
  },
  "cells": [
    {
      "cell_type": "markdown",
      "metadata": {
        "id": "view-in-github",
        "colab_type": "text"
      },
      "source": [
        "<a href=\"https://colab.research.google.com/github/sakshi-tekale/Azure-AI-Projects/blob/main/Azure-AI-Projects/Image-Captioning/your_file_name.ipynb\" target=\"_parent\"><img src=\"https://colab.research.google.com/assets/colab-badge.svg\" alt=\"Open In Colab\"/></a>"
      ]
    },
    {
      "cell_type": "code",
      "source": [
        "from azure.cognitiveservices.vision.computervision import ComputerVisionClient\n",
        "from msrest.authentication import CognitiveServicesCredentials\n",
        "import requests\n",
        "from PIL import Image\n",
        "from io import BytesIO\n",
        "\n",
        "# Azure Credentials\n",
        "API_KEY = \"5IurQuDby9Ap5ufIYxSqz5k1EcIq8efZih4z8F6q5fxM1TFkekPxJQQJ99BCACYeBjFXJ3w3AAAFACOGh8TU\"\n",
        "ENDPOINT = \"https://ai-image-captioning.cognitiveservices.azure.com/\"\n",
        "\n",
        "client = ComputerVisionClient(ENDPOINT, CognitiveServicesCredentials(API_KEY))\n",
        "\n",
        "# Test Image URL\n",
        "image_url = \"https://upload.wikimedia.org/wikipedia/commons/3/3c/Shaki_waterfall.jpg\"\n",
        "\n",
        "# Analyze Image\n",
        "description = client.describe_image(image_url)\n",
        "captions = description.captions\n",
        "\n",
        "# Print Results\n",
        "for caption in captions:\n",
        "    print(f\"Caption: {caption.text} | Confidence: {caption.confidence:.2f}\")\n",
        "\n",
        "# Display Image\n",
        "response = requests.get(image_url)\n",
        "img = Image.open(BytesIO(response.content))\n",
        "img.show()\n"
      ],
      "metadata": {
        "colab": {
          "base_uri": "https://localhost:8080/"
        },
        "id": "QHjC8SZ0D2Aq",
        "outputId": "7cedaeaf-3344-4403-9a31-fad29485792c"
      },
      "execution_count": 6,
      "outputs": [
        {
          "output_type": "stream",
          "name": "stdout",
          "text": [
            "Caption: a group of waterfalls | Confidence: 0.45\n"
          ]
        }
      ]
    },
    {
      "cell_type": "code",
      "source": [],
      "metadata": {
        "id": "MrUWvL-dEHXQ"
      },
      "execution_count": null,
      "outputs": []
    }
  ]
}