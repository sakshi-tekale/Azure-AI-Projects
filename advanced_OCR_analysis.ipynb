{
  "nbformat": 4,
  "nbformat_minor": 0,
  "metadata": {
    "colab": {
      "provenance": [],
      "authorship_tag": "ABX9TyMYk6AjyDdB2qY0Avy3dsxc",
      "include_colab_link": true
    },
    "kernelspec": {
      "name": "python3",
      "display_name": "Python 3"
    },
    "language_info": {
      "name": "python"
    }
  },
  "cells": [
    {
      "cell_type": "markdown",
      "metadata": {
        "id": "view-in-github",
        "colab_type": "text"
      },
      "source": [
        "<a href=\"https://colab.research.google.com/github/sakshi-tekale/Azure-AI-Projects/blob/main/advanced_OCR_analysis.ipynb\" target=\"_parent\"><img src=\"https://colab.research.google.com/assets/colab-badge.svg\" alt=\"Open In Colab\"/></a>"
      ]
    },
    {
      "cell_type": "code",
      "source": [
        "!pip install azure-cognitiveservices-vision-computervision\n",
        "!pip install pillow requests"
      ],
      "metadata": {
        "colab": {
          "base_uri": "https://localhost:8080/"
        },
        "id": "MrUWvL-dEHXQ",
        "outputId": "99467058-eed0-4dca-c9d8-1302f34c023f"
      },
      "execution_count": 7,
      "outputs": [
        {
          "output_type": "stream",
          "name": "stdout",
          "text": [
            "Requirement already satisfied: azure-cognitiveservices-vision-computervision in /usr/local/lib/python3.11/dist-packages (0.9.1)\n",
            "Requirement already satisfied: msrest>=0.6.21 in /usr/local/lib/python3.11/dist-packages (from azure-cognitiveservices-vision-computervision) (0.7.1)\n",
            "Requirement already satisfied: azure-common~=1.1 in /usr/local/lib/python3.11/dist-packages (from azure-cognitiveservices-vision-computervision) (1.1.28)\n",
            "Requirement already satisfied: azure-core>=1.24.0 in /usr/local/lib/python3.11/dist-packages (from msrest>=0.6.21->azure-cognitiveservices-vision-computervision) (1.32.0)\n",
            "Requirement already satisfied: certifi>=2017.4.17 in /usr/local/lib/python3.11/dist-packages (from msrest>=0.6.21->azure-cognitiveservices-vision-computervision) (2025.1.31)\n",
            "Requirement already satisfied: isodate>=0.6.0 in /usr/local/lib/python3.11/dist-packages (from msrest>=0.6.21->azure-cognitiveservices-vision-computervision) (0.7.2)\n",
            "Requirement already satisfied: requests-oauthlib>=0.5.0 in /usr/local/lib/python3.11/dist-packages (from msrest>=0.6.21->azure-cognitiveservices-vision-computervision) (2.0.0)\n",
            "Requirement already satisfied: requests~=2.16 in /usr/local/lib/python3.11/dist-packages (from msrest>=0.6.21->azure-cognitiveservices-vision-computervision) (2.32.3)\n",
            "Requirement already satisfied: six>=1.11.0 in /usr/local/lib/python3.11/dist-packages (from azure-core>=1.24.0->msrest>=0.6.21->azure-cognitiveservices-vision-computervision) (1.17.0)\n",
            "Requirement already satisfied: typing-extensions>=4.6.0 in /usr/local/lib/python3.11/dist-packages (from azure-core>=1.24.0->msrest>=0.6.21->azure-cognitiveservices-vision-computervision) (4.12.2)\n",
            "Requirement already satisfied: charset-normalizer<4,>=2 in /usr/local/lib/python3.11/dist-packages (from requests~=2.16->msrest>=0.6.21->azure-cognitiveservices-vision-computervision) (3.4.1)\n",
            "Requirement already satisfied: idna<4,>=2.5 in /usr/local/lib/python3.11/dist-packages (from requests~=2.16->msrest>=0.6.21->azure-cognitiveservices-vision-computervision) (3.10)\n",
            "Requirement already satisfied: urllib3<3,>=1.21.1 in /usr/local/lib/python3.11/dist-packages (from requests~=2.16->msrest>=0.6.21->azure-cognitiveservices-vision-computervision) (2.3.0)\n",
            "Requirement already satisfied: oauthlib>=3.0.0 in /usr/local/lib/python3.11/dist-packages (from requests-oauthlib>=0.5.0->msrest>=0.6.21->azure-cognitiveservices-vision-computervision) (3.2.2)\n",
            "Requirement already satisfied: pillow in /usr/local/lib/python3.11/dist-packages (11.1.0)\n",
            "Requirement already satisfied: requests in /usr/local/lib/python3.11/dist-packages (2.32.3)\n",
            "Requirement already satisfied: charset-normalizer<4,>=2 in /usr/local/lib/python3.11/dist-packages (from requests) (3.4.1)\n",
            "Requirement already satisfied: idna<4,>=2.5 in /usr/local/lib/python3.11/dist-packages (from requests) (3.10)\n",
            "Requirement already satisfied: urllib3<3,>=1.21.1 in /usr/local/lib/python3.11/dist-packages (from requests) (2.3.0)\n",
            "Requirement already satisfied: certifi>=2017.4.17 in /usr/local/lib/python3.11/dist-packages (from requests) (2025.1.31)\n"
          ]
        }
      ]
    },
    {
      "cell_type": "code",
      "source": [
        "from azure.cognitiveservices.vision.computervision import ComputerVisionClient\n",
        "from msrest.authentication import CognitiveServicesCredentials\n",
        "import requests\n",
        "from PIL import Image\n",
        "from io import BytesIO\n",
        "\n",
        "# Azure credentials\n",
        "API_KEY = \"5IurQuDby9Ap5ufIYxSqz5k1EcIq8efZih4z8F6q5fxM1TFkekPxJQQJ99BCACYeBjFXJ3w3AAAFACOGh8TU\"\n",
        "ENDPOINT = \"https://ai-image-captioning.cognitiveservices.azure.com/\"\n",
        "\n",
        "client = ComputerVisionClient(ENDPOINT, CognitiveServicesCredentials(API_KEY))\n",
        "\n",
        "# Test image\n",
        "image_url = \"https://upload.wikimedia.org/wikipedia/commons/5/56/Tiger.50.jpg\"\n",
        "\n",
        "# Object detection\n",
        "objects = client.analyze_image(image_url, visual_features=[\"Objects\"]).objects\n",
        "for obj in objects:\n",
        "    print(f\"Object: {obj.object_property}, Confidence: {obj.confidence:.2f}\")\n",
        "\n",
        "# OCR (Extract text from image)\n",
        "ocr_result = client.recognize_printed_text(image_url)\n",
        "for region in ocr_result.regions:\n",
        "    for line in region.lines:\n",
        "        print(\" \".join([word.text for word in line.words]))\n"
      ],
      "metadata": {
        "colab": {
          "base_uri": "https://localhost:8080/"
        },
        "id": "Z84HdKJQRJ0p",
        "outputId": "633ed8c8-fc13-43d2-e249-ec3b625eb425"
      },
      "execution_count": 10,
      "outputs": [
        {
          "output_type": "stream",
          "name": "stdout",
          "text": [
            "Object: tiger, Confidence: 0.92\n"
          ]
        }
      ]
    }
  ]
}